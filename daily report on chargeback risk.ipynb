{
 "cells": [
  {
   "cell_type": "code",
   "execution_count": null,
   "id": "4fd0f8d5-ec75-4c5b-8bd2-257eaec4203d",
   "metadata": {},
   "outputs": [],
   "source": [
    "import pandas as pd\n",
    "from datetime import datetime\n",
    "from datetime import date\n",
    "from datetime import timedelta\n",
    "import os\n",
    "import calendar\n",
    "import numpy as np\n",
    "import matplotlib as mpl\n",
    "import matplotlib.pyplot as plt\n",
    "import matplotlib.patches as mpatches\n",
    "import re"
   ]
  },
  {
   "cell_type": "code",
   "execution_count": null,
   "id": "992a2d1e-770d-46b8-88ad-634ee7d13241",
   "metadata": {},
   "outputs": [],
   "source": [
    "#SC拒付新增查看\n",
    "print ('SafeCharge拒付日报:')\n",
    "date.today()\n",
    "data = pd.read_excel('141308__chargeback_20220217034501000000_6ac31cd588090d6b.xlsx',skiprows=11).iloc[:-2, :]\n",
    "curr_date = date.today()\n",
    "print(str(date.today()) + ' ' + calendar.day_name[curr_date.weekday()] + ' 新增SC拒付一共'+ str(data.shape[0]) + '笔。')\n",
    "data['Client Unique ID'] = data['Client Unique ID'].map(lambda x: x.replace('settle_',''))\n",
    "data['商户号'] = data['Client Unique ID'].str[0:6]\n",
    "info = data[['Client Unique ID', '商户号']].sort_values(by='商户号')\n",
    "counts = pd.DataFrame(info.groupby(['商户号'])['商户号'].agg([len]).sort_values(by='len', ascending=False))\n",
    "counts['商户号'] = counts.index\n",
    "counts_df = counts.reset_index(drop=True)\n",
    "counts_df['拒付总数'] = counts_df['len']\n",
    "\n",
    "mers = pd.read_excel('资料汇总.xlsx', sheet_name='AM分配')\n",
    "mers['商户号'] = mers['商户号'].astype(str)\n",
    "\n",
    "# counts = counts.reset_index(drop=True)\n",
    "final = counts_df.merge(mers[['商户号','商户名称', 'AM', 'BD']], on='商户号', how='left')[['商户号','商户名称','拒付总数','AM', 'BD']]\n",
    "final['当日占比'] = final['拒付总数'] / data.shape[0]\n",
    "final['当日占比'] = final['当日占比'].map(lambda x: \"{:.2%}\".format(x))\n",
    "print('新增拒付量前十名商户：')\n",
    "final.index = final.index + 1\n",
    "final[['商户号','商户名称','当日占比', '拒付总数','AM', 'BD']].head(11)\n",
    "# final[['商户号','商户名称','当日占比', '拒付总数']].head(11)"
   ]
  },
  {
   "cell_type": "code",
   "execution_count": null,
   "id": "a6a25320-19ed-4b20-b380-2fb4a33e4607",
   "metadata": {},
   "outputs": [],
   "source": [
    "final['当日占比'] = final['拒付总数'] / data.shape[0]\n",
    "final['当日占比'] = final['当日占比'].map(lambda x: \"{:.2%}\".format(x))\n",
    "final['当日占比']"
   ]
  }
 ],
 "metadata": {
  "kernelspec": {
   "display_name": "Python 3",
   "language": "python",
   "name": "python3"
  },
  "language_info": {
   "codemirror_mode": {
    "name": "ipython",
    "version": 3
   },
   "file_extension": ".py",
   "mimetype": "text/x-python",
   "name": "python",
   "nbconvert_exporter": "python",
   "pygments_lexer": "ipython3",
   "version": "3.8.5"
  }
 },
 "nbformat": 4,
 "nbformat_minor": 5
}
